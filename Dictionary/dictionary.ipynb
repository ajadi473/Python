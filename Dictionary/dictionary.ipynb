{
 "cells": [
  {
   "cell_type": "code",
   "execution_count": null,
   "metadata": {},
   "outputs": [
    {
     "name": "stdout",
     "output_type": "stream",
     "text": [
      "Enter Word: f\n",
      "Did you mean of instead? Enter Y if yes, or N if no: y\n",
      "Containing, comprising or made from.\n"
     ]
    }
   ],
   "source": [
    "import json\n",
    "from difflib import get_close_matches\n",
    "\n",
    "data = json.load(open(\"data.json\"))\n",
    "\n",
    "\n",
    "def translate(w):\n",
    "    if w in data:\n",
    "        return data[w]\n",
    "    else:\n",
    "        w = w.lower()\n",
    "        if w in data:\n",
    "            return data[w]\n",
    "        elif len(get_close_matches(w, data.keys())) > 0:\n",
    "            yn = input(\"Did you mean %s instead? Enter Y if yes, or N if no: \" % get_close_matches(w, data.keys())[0])\n",
    "            yn = yn.lower()\n",
    "            if yn == \"y\":\n",
    "                return data[get_close_matches(w, data.keys())[0]]\n",
    "            elif yn == \"N\":\n",
    "                return \"The word doesn't exist. please double check the word.\"\n",
    "            else:\n",
    "                return \"we don't understand your entry.\"\n",
    "        else:\n",
    "            return \"The word doesn't exist. please double check the word.\"\n",
    "\n",
    "while True:    \n",
    "    word = input(\"Enter Word: \")\n",
    "\n",
    "    output = (translate(word))\n",
    "\n",
    "    if type(output) == list:\n",
    "        for item in output:\n",
    "            print(item)\n",
    "\n",
    "    else:\n",
    "        print(output)\n",
    "        \n",
    "    #contine or not\n",
    "    check = input(\"Would you like to continue? Hit enter key if yes, or N if no: \")\n",
    "    if check == \"n\":\n",
    "        break"
   ]
  }
 ],
 "metadata": {
  "kernelspec": {
   "display_name": "Python 3",
   "language": "python",
   "name": "python3"
  },
  "language_info": {
   "codemirror_mode": {
    "name": "ipython",
    "version": 3
   },
   "file_extension": ".py",
   "mimetype": "text/x-python",
   "name": "python",
   "nbconvert_exporter": "python",
   "pygments_lexer": "ipython3",
   "version": "3.6.1"
  }
 },
 "nbformat": 4,
 "nbformat_minor": 2
}
