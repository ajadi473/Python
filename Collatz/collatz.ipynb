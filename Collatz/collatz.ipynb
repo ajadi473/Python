{
 "cells": [
  {
   "cell_type": "code",
   "execution_count": null,
   "metadata": {},
   "outputs": [
    {
     "name": "stdout",
     "output_type": "stream",
     "text": [
      "Give me a number \t3\n",
      "Number is odd \n",
      "\n",
      "10\n",
      "Give me a number \t5\n",
      "Number is odd \n",
      "\n",
      "16\n",
      "Give me a number \t8\n",
      "The number is even \n",
      "\n",
      "4\n",
      "Give me a number \t2\n",
      "The number is even \n",
      "\n",
      "1\n"
     ]
    }
   ],
   "source": [
    "def collatz(number):\n",
    "    if (number % 2 == 0): # CHECKS FOR EVEN\n",
    "        print ('The number is even \\n')\n",
    "        m = number // 2\n",
    "        print(m)\n",
    "    else: #ODD\n",
    "        print('Number is odd \\n')\n",
    "        print (3 * number + 1)\n",
    "\n",
    "while True:\n",
    "    d = input('Give me a number \\t')\n",
    "    collatz(int(d))\n"
   ]
  }
 ],
 "metadata": {
  "kernelspec": {
   "display_name": "Python 3",
   "language": "python",
   "name": "python3"
  },
  "language_info": {
   "codemirror_mode": {
    "name": "ipython",
    "version": 3
   },
   "file_extension": ".py",
   "mimetype": "text/x-python",
   "name": "python",
   "nbconvert_exporter": "python",
   "pygments_lexer": "ipython3",
   "version": "3.6.1"
  }
 },
 "nbformat": 4,
 "nbformat_minor": 2
}
