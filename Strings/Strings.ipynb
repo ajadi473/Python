{
 "cells": [
  {
   "cell_type": "code",
   "execution_count": null,
   "metadata": {
    "collapsed": true
   },
   "outputs": [],
   "source": [
    "import string\n",
    "print(help(string))"
   ]
  },
  {
   "cell_type": "code",
   "execution_count": null,
   "metadata": {
    "collapsed": true
   },
   "outputs": [],
   "source": [
    "## program ro print random numbers\n",
    "import random\n",
    "\n",
    "a = ''\n",
    "for i in range(4):\n",
    "    a += random.choice(string.ascii_lowercase)\n",
    "print (a)"
   ]
  },
  {
   "cell_type": "code",
   "execution_count": 1,
   "metadata": {},
   "outputs": [
    {
     "name": "stdout",
     "output_type": "stream",
     "text": [
      "Hy and welcome, if you would like to play test your vowel skills, hit v, for consonants, hit c \t:v\n",
      "\n",
      "You chose v loading vowel alphabets...please wait\n",
      "Initial point: 0 \n",
      "\n",
      "Is the letter 'X' a vowel letter?\n",
      "y for yes and n for no \n",
      "Press e to end \tn\n",
      "\n",
      "You are Correct, The alphabet 'X'  is NOT a vowel\n",
      "Score point: 0\n",
      "\n",
      "Is the letter 'M' a vowel letter?\n",
      "y for yes and n for no \n",
      "Press e to end \tn\n",
      "\n",
      "You are Correct, The alphabet 'M'  is NOT a vowel\n",
      "Score point: 0\n",
      "\n",
      "Is the letter 'L' a vowel letter?\n",
      "y for yes and n for no \n",
      "Press e to end \te\n",
      "Program was run successfull, 2 times\n"
     ]
    }
   ],
   "source": [
    "## program to check if input letter is vowel/ consonant\n",
    "## likewise count the number of vowels or consonants\n",
    "import random\n",
    "\n",
    "#def vowels(text):\n",
    "vowel = 'aeiou'\n",
    "consonant = 'bcdfghjklmnpqrstvwxyz'\n",
    "alphabet = 'abcdefghijklmnopqrstuvwxyz'\n",
    "\n",
    "\n",
    "\n",
    "\n",
    "# function definition for vowel\n",
    "def v(val, cho):\n",
    "    point = 0\n",
    "    for i in range(5):\n",
    "        #if vowel  and user gets it\n",
    "                \n",
    "        if ((str(val) == vowel[i]) & (cho == 'y')):\n",
    "            \n",
    "            print ('\\nYou are Correct, the alphabet \\''+val.upper() + '\\' is vowel')\n",
    "            print ('Score point: '+ str(point))\n",
    "            return i\n",
    "            #break\n",
    "            \n",
    "        #if vowel and user misses it\n",
    "        elif ((str(val) == vowel[i]) & (cho == 'n')):\n",
    "            print ('\\nOops, you missed it, the alphabet \\'' + val.upper() + '\\' is a vowel')\n",
    "            print ('Score point: '+ str(point))\n",
    "            #return i\n",
    "            break\n",
    "            \n",
    "        #if it is not vowel and user enters y\n",
    "        elif ((str(val) != vowel[i]) & (cho == 'n')):\n",
    "            \n",
    "            print ('\\nYou are Correct, The alphabet \\''+val.upper() + '\\'  is NOT a vowel')\n",
    "            print ('Score point: '+ str(point))\n",
    "            return i\n",
    "            #break\n",
    "\n",
    "#welcome message\n",
    "userChoice = input('Hy and welcome, if you would like to play test your vowel skills, hit v, for consonants, hit c \\t:')\n",
    "\n",
    "\n",
    "if (userChoice == 'v'):\n",
    "    print ('\\nYou chose '+ str(userChoice) + ' loading vowel alphabets...please wait')\n",
    "    #getVal = input('Enter the vowel alphabet: \\t ')\n",
    "    \n",
    "    #load time\n",
    "    #loadAmt = input('How many times do you want to play this game? \\t')\n",
    "    #print ('Your game will iterate '+ loadAmt + ' times')\n",
    "    print ('Initial point: 0 ')\n",
    "    \n",
    "    count = 0\n",
    "    point = 0\n",
    "    while True:\n",
    "        getVa = random.choice(alphabet)\n",
    "        print('\\nIs the letter \\'' + getVa.upper() +'\\' a vowel letter?')\n",
    "        resp = input('y for yes and n for no \\nPress e to end \\t')\n",
    "        if resp == 'e':\n",
    "            break\n",
    "        else:\n",
    "            count += 1\n",
    "            v(getVa,str(resp))\n",
    "    print('Program was run successfull, '+ str(count) +' times')    \n",
    "    \n",
    "    \n",
    "elif (userChoice == 'c'):\n",
    "    print ('Be right back there is no game for consonants yet \\t')\n",
    "else:\n",
    "    print ('The inpupt supplied is wrong \\nPlease restart the application')\n"
   ]
  },
  {
   "cell_type": "code",
   "execution_count": null,
   "metadata": {
    "collapsed": true
   },
   "outputs": [],
   "source": []
  }
 ],
 "metadata": {
  "kernelspec": {
   "display_name": "Python 3",
   "language": "python",
   "name": "python3"
  },
  "language_info": {
   "codemirror_mode": {
    "name": "ipython",
    "version": 3
   },
   "file_extension": ".py",
   "mimetype": "text/x-python",
   "name": "python",
   "nbconvert_exporter": "python",
   "pygments_lexer": "ipython3",
   "version": "3.6.1"
  }
 },
 "nbformat": 4,
 "nbformat_minor": 2
}
